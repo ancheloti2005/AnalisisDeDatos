{
 "cells": [
  {
   "cell_type": "code",
   "execution_count": 1,
   "id": "22db22b5",
   "metadata": {},
   "outputs": [
    {
     "name": "stdout",
     "output_type": "stream",
     "text": [
      "Hola Mundo\n"
     ]
    }
   ],
   "source": [
    "print('Hola Mundo')"
   ]
  },
  {
   "cell_type": "code",
   "execution_count": 2,
   "id": "65b0946d",
   "metadata": {},
   "outputs": [],
   "source": [
    "# comentario"
   ]
  },
  {
   "cell_type": "code",
   "execution_count": null,
   "id": "0e146a98",
   "metadata": {},
   "outputs": [],
   "source": []
  },
  {
   "cell_type": "code",
   "execution_count": 4,
   "id": "85cac241",
   "metadata": {},
   "outputs": [
    {
     "name": "stdout",
     "output_type": "stream",
     "text": [
      "\n",
      "\n",
      "\n"
     ]
    }
   ],
   "source": [
    "#Etapa1: este proceso ... block \n",
    "print('')\n",
    "print('')\n",
    "print('')"
   ]
  },
  {
   "cell_type": "code",
   "execution_count": 14,
   "id": "26f9248b",
   "metadata": {},
   "outputs": [
    {
     "name": "stdout",
     "output_type": "stream",
     "text": [
      "10\n",
      "10\n"
     ]
    }
   ],
   "source": [
    "x_global = 10\n",
    "def my_function():\n",
    "    print(x_global)\n",
    "\n",
    "my_function()\n",
    "print(x_global)"
   ]
  },
  {
   "cell_type": "code",
   "execution_count": 10,
   "id": "a1f63641",
   "metadata": {},
   "outputs": [
    {
     "name": "stdout",
     "output_type": "stream",
     "text": [
      "Bryan Vargas\n"
     ]
    }
   ],
   "source": [
    "#string \n",
    "texto = \"Bryan Vargas\"\n",
    "print(texto)"
   ]
  },
  {
   "cell_type": "code",
   "execution_count": null,
   "id": "00757718",
   "metadata": {},
   "outputs": [],
   "source": [
    "#numericos \n",
    "int_num = 10\n",
    "float_num = 10.2\n",
    "complexos_num= 3.14j\n"
   ]
  },
  {
   "cell_type": "code",
   "execution_count": 12,
   "id": "1d4fc404",
   "metadata": {},
   "outputs": [],
   "source": [
    "val = True\n",
    "val2 = False"
   ]
  },
  {
   "cell_type": "code",
   "execution_count": 13,
   "id": "31a5109a",
   "metadata": {},
   "outputs": [],
   "source": [
    "#Lista de Datos"
   ]
  },
  {
   "cell_type": "code",
   "execution_count": 16,
   "id": "6c8f7e37",
   "metadata": {},
   "outputs": [
    {
     "name": "stdout",
     "output_type": "stream",
     "text": [
      "[3, 5, 2]\n",
      "[]\n",
      "[3, 'Hello', 44.2]\n",
      "['apple', [3, ['a', 2, 3.4], 8], ['x']]\n"
     ]
    }
   ],
   "source": [
    "my_list_1 = [3, 5, 2]\n",
    "\n",
    "my_list_2 = []\n",
    "my_list_3 = [3, \"Hello\", 44.2]\n",
    "\n",
    "my_list = ['apple', [3, ['a', 2, 3.4], 8 ], ['x']]\n",
    "\n",
    "print(my_list_1)\n",
    "print(my_list_2)\n",
    "print(my_list_3)\n",
    "\n",
    "print(my_list) "
   ]
  },
  {
   "cell_type": "code",
   "execution_count": 20,
   "id": "e547c409",
   "metadata": {},
   "outputs": [
    {
     "data": {
      "text/plain": [
       "['apple', 3, 3, 3, 3, [3, ['a', 2, 3.4], 8], ['x']]"
      ]
     },
     "execution_count": 20,
     "metadata": {},
     "output_type": "execute_result"
    }
   ],
   "source": [
    "my_list.insert(1, 3)\n",
    "my_list"
   ]
  },
  {
   "cell_type": "code",
   "execution_count": 27,
   "id": "52aa2c47",
   "metadata": {},
   "outputs": [
    {
     "name": "stdout",
     "output_type": "stream",
     "text": [
      "x\n",
      "m\n",
      "t\n"
     ]
    }
   ],
   "source": [
    "my_list_f = ['x', 't', 'm', 'a']\n",
    "print(my_list_f[0])\n",
    "print(my_list_f[-2])\n",
    "print(my_list_f[-3])\n"
   ]
  },
  {
   "cell_type": "code",
   "execution_count": 28,
   "id": "84bc08ec",
   "metadata": {},
   "outputs": [
    {
     "name": "stdout",
     "output_type": "stream",
     "text": [
      "['x', 't', 'm', 'a']\n",
      "['z', 't', 'm', 'a']\n"
     ]
    }
   ],
   "source": [
    "print(my_list_f)\n",
    "my_list_f[0] = 'z'\n",
    "\n",
    "print(my_list_f)"
   ]
  },
  {
   "cell_type": "code",
   "execution_count": 29,
   "id": "4c35d9b8",
   "metadata": {},
   "outputs": [
    {
     "data": {
      "text/plain": [
       "'a'"
      ]
     },
     "execution_count": 29,
     "metadata": {},
     "output_type": "execute_result"
    }
   ],
   "source": [
    "my_list_f[3]"
   ]
  },
  {
   "cell_type": "code",
   "execution_count": 31,
   "id": "fe81df92",
   "metadata": {},
   "outputs": [
    {
     "name": "stdout",
     "output_type": "stream",
     "text": [
      "a\n",
      "4\n"
     ]
    }
   ],
   "source": [
    "n_list = ['happy', [6, 2, 3, 4]]\n",
    "print(n_list[0][1])\n",
    "print(n_list[1][3])"
   ]
  },
  {
   "cell_type": "code",
   "execution_count": 32,
   "id": "df03d7df",
   "metadata": {},
   "outputs": [
    {
     "name": "stdout",
     "output_type": "stream",
     "text": [
      "['a', 'b', 'c', 'd', 'e', 'f', 'g', 'h', 'i']\n",
      "['c', 'd', 'e']\n"
     ]
    }
   ],
   "source": [
    "my_list_range = ['a', 'b', 'c', 'd', 'e', 'f', 'g', 'h', 'i']\n",
    "\n",
    "print(my_list_range)\n",
    "print(my_list_range[2:5])"
   ]
  }
 ],
 "metadata": {
  "kernelspec": {
   "display_name": "Python 3",
   "language": "python",
   "name": "python3"
  },
  "language_info": {
   "codemirror_mode": {
    "name": "ipython",
    "version": 3
   },
   "file_extension": ".py",
   "mimetype": "text/x-python",
   "name": "python",
   "nbconvert_exporter": "python",
   "pygments_lexer": "ipython3",
   "version": "3.12.1"
  }
 },
 "nbformat": 4,
 "nbformat_minor": 5
}
